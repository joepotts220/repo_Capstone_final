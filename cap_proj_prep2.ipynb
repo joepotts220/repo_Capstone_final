{
 "cells": [
  {
   "cell_type": "code",
   "execution_count": null,
   "metadata": {},
   "outputs": [],
   "source": [
    "import pandas as pd\n",
    "import numpy as np\n",
    "import matplotlib.pyplot as plt"
   ]
  },
  {
   "cell_type": "code",
   "execution_count": null,
   "metadata": {},
   "outputs": [],
   "source": [
    "df_orig = pd.read_csv(\"cbecs2018_final_public.csv\")\n",
    "df_orig.head()"
   ]
  },
  {
   "cell_type": "code",
   "execution_count": null,
   "metadata": {},
   "outputs": [],
   "source": [
    "display(df_orig.loc[(df_orig['PUBID'] > 0) & (df_orig['PBA'] == 2) & (df_orig['PUBCLIM'] == 4) & (df_orig['SQFT'] > 0), ['PUBID', 'PBA']])"
   ]
  },
  {
   "cell_type": "code",
   "execution_count": null,
   "metadata": {},
   "outputs": [],
   "source": [
    "df_wk = df_orig.copy()\n",
    "df_wk.head(2)"
   ]
  },
  {
   "cell_type": "markdown",
   "metadata": {},
   "source": [
    "#### creates df_wk dataset"
   ]
  },
  {
   "cell_type": "code",
   "execution_count": null,
   "metadata": {},
   "outputs": [],
   "source": [
    "df_wk = df_orig.iloc[:,[0,3,4,5,7,8,11,12,18,21,77,103,104,113,114,133,\n",
    "    134,139,140,141,295,378,379,425,566,569,567,568,570,571,13]]\n",
    "df_wk.head()"
   ]
  },
  {
   "cell_type": "code",
   "execution_count": null,
   "metadata": {},
   "outputs": [],
   "source": [
    "# do not use\n",
    "df_wk1 = df_orig.loc[(df_orig['PUBID'] > 0) &\n",
    "    (df_orig['PBA'] == 2) &\n",
    "    (df_orig['PUBCLIM'].isin([3, 4, 5])) &\n",
    "    (df_orig['SQFT'] > 0) &\n",
    "    (df_orig['WLCNS'] > 0) &\n",
    "    (df_orig['RFCNS'] > 0) &\n",
    "    (df_orig['BLDSHP'] > 0) &\n",
    "    (df_orig['GLSSPC'] > 0) &\n",
    "    (df_orig['YRCONC'] > 0) &\n",
    "    (df_orig['ELHT1'] > 0) &\n",
    "    (df_orig['NGHT1'] > 0) &\n",
    "    (df_orig['NELVTR'] > 0) &\n",
    "    (df_orig['WKHRSC'] > 0) &\n",
    "    (df_orig['ELHT2'] > 0) &\n",
    "    (df_orig['NGHT2'] > 0) &\n",
    "    (df_orig['BOILER_EL'] > 0) &\n",
    "    (df_orig['HTPMPH_EL'] > 0) &\n",
    "    (df_orig['OTHTEQ_EL'] > 0) &\n",
    "    (df_orig['PKGHT_NG'] > 0) &\n",
    "    (df_orig['ELCOOL'] > 0) &\n",
    "    (df_orig['ELWATR'] > 0) &\n",
    "    (df_orig['NGWATR'] > 0) &\n",
    "    (df_orig['NGOTH'] > 0) &\n",
    "    (df_orig['BOILER_NG'] > 0) &\n",
    "    (df_orig['ELBTU'] > 0) &\n",
    "    (df_orig['NGBTU'] > 0)][\n",
    "['PUBID', 'PBA', 'PUBCLIM', 'SQFT', 'WLCNS', 'RFCNS', 'BLDSHP', 'GLSSPC', 'YRCONC',\n",
    " 'ELHT1', 'NGHT1', 'NELVTR', 'WKHRSC', 'ELHT2', 'NGHT2', 'BOILER_EL', 'HTPMPH_EL',\n",
    " 'OTHTEQ_EL', 'PKGHT_NG', 'ELCOOL', 'ELWATR', 'NGWATR', 'NGOTH', 'BOILER_NG', 'ELBTU', 'NGBTU']]\n",
    "\n",
    "df_wk1.head()\n",
    "\n",
    "\n",
    "\n"
   ]
  },
  {
   "cell_type": "code",
   "execution_count": null,
   "metadata": {},
   "outputs": [],
   "source": [
    "df_wk.shape"
   ]
  },
  {
   "cell_type": "code",
   "execution_count": null,
   "metadata": {},
   "outputs": [],
   "source": [
    "missing_values = df_wk.isna().sum()\n",
    "print(missing_values)"
   ]
  },
  {
   "cell_type": "code",
   "execution_count": null,
   "metadata": {},
   "outputs": [],
   "source": [
    "print(df_wk.info())"
   ]
  },
  {
   "cell_type": "code",
   "execution_count": null,
   "metadata": {},
   "outputs": [],
   "source": [
    "print(df_wk.describe().round(0))"
   ]
  },
  {
   "cell_type": "code",
   "execution_count": null,
   "metadata": {},
   "outputs": [],
   "source": [
    "print(df_wk[['PBA', 'WLCNS']].value_counts())"
   ]
  },
  {
   "cell_type": "code",
   "execution_count": null,
   "metadata": {},
   "outputs": [],
   "source": [
    "import pandas as pd \n",
    "import matplotlib.pyplot as plt \n",
    "\n",
    "# Make example dataframe \n",
    "df = pd.DataFrame([(1, 'Germany'), \n",
    "\t\t\t\t(2, 'France'), \n",
    "\t\t\t\t(3, 'Indonesia'), \n",
    "\t\t\t\t(4, 'France'), \n",
    "\t\t\t\t(5, 'France'), \n",
    "\t\t\t\t(6, 'Germany'), \n",
    "\t\t\t\t(7, 'UK'), \n",
    "\t\t\t\t(8, 'India'), \n",
    "\t\t\t\t(9, 'India'), \n",
    "\t\t\t\t(10, 'Germany') \n",
    "\t\t\t\t], \n",
    "\t\t\t\tcolumns=['groupid', 'country'], \n",
    "\t\t\t\tindex=['a', 'b', 'c', 'd', 'e', 'f', 'g', 'h', 'i', 'j']) \n",
    "\n",
    "\n",
    "# print country name and counts \n",
    "su3 = df['country'].value_counts() \n",
    "print(su3) \n",
    "\n",
    "# print 1st country count in a list \n",
    "su4 = df['country'].value_counts()[0] \n",
    "print(su4) \n"
   ]
  },
  {
   "cell_type": "code",
   "execution_count": null,
   "metadata": {},
   "outputs": [],
   "source": [
    "import pandas as pd\n",
    "# Sample DataFrame\n",
    "data = {'A': [1, 2, 3, 4, 5], \n",
    "        'B': [5, 4, 3, 2, 1], \n",
    "        'C': [1, 3, 5, 2, 4]}\n",
    "df = pd.DataFrame(data)\n",
    "\n",
    "# Calculate the correlation matrix\n",
    "correlation_matrix = df.corr()\n",
    "\n",
    "# Print the correlation matrix\n",
    "print(correlation_matrix)"
   ]
  }
 ],
 "metadata": {
  "kernelspec": {
   "display_name": "Python 3",
   "language": "python",
   "name": "python3"
  },
  "language_info": {
   "codemirror_mode": {
    "name": "ipython",
    "version": 3
   },
   "file_extension": ".py",
   "mimetype": "text/x-python",
   "name": "python",
   "nbconvert_exporter": "python",
   "pygments_lexer": "ipython3",
   "version": "3.11.5"
  }
 },
 "nbformat": 4,
 "nbformat_minor": 2
}
