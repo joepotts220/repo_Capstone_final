{
 "cells": [
  {
   "cell_type": "code",
   "execution_count": 1,
   "metadata": {},
   "outputs": [],
   "source": [
    "import pandas as pd\n",
    "import numpy as np\n",
    "import matplotlib.pyplot as plt\n",
    "import seaborn as sb"
   ]
  },
  {
   "cell_type": "code",
   "execution_count": 2,
   "metadata": {},
   "outputs": [
    {
     "data": {
      "text/html": [
       "<div>\n",
       "<style scoped>\n",
       "    .dataframe tbody tr th:only-of-type {\n",
       "        vertical-align: middle;\n",
       "    }\n",
       "\n",
       "    .dataframe tbody tr th {\n",
       "        vertical-align: top;\n",
       "    }\n",
       "\n",
       "    .dataframe thead th {\n",
       "        text-align: right;\n",
       "    }\n",
       "</style>\n",
       "<table border=\"1\" class=\"dataframe\">\n",
       "  <thead>\n",
       "    <tr style=\"text-align: right;\">\n",
       "      <th></th>\n",
       "      <th>PUBID</th>\n",
       "      <th>REGION</th>\n",
       "      <th>CENDIV</th>\n",
       "      <th>PBA</th>\n",
       "      <th>PUBCLIM</th>\n",
       "      <th>SQFT</th>\n",
       "      <th>SQFTC</th>\n",
       "      <th>WLCNS</th>\n",
       "      <th>RFCNS</th>\n",
       "      <th>RFCOOL</th>\n",
       "      <th>...</th>\n",
       "      <th>ZMFBTU</th>\n",
       "      <th>ZMFEXP</th>\n",
       "      <th>ZELCNS</th>\n",
       "      <th>ZELEXP</th>\n",
       "      <th>ZNGCNS</th>\n",
       "      <th>ZNGEXP</th>\n",
       "      <th>ZFKCNS</th>\n",
       "      <th>ZFKEXP</th>\n",
       "      <th>ZDHBTU</th>\n",
       "      <th>ZDHEXP</th>\n",
       "    </tr>\n",
       "  </thead>\n",
       "  <tbody>\n",
       "    <tr>\n",
       "      <th>0</th>\n",
       "      <td>1</td>\n",
       "      <td>3</td>\n",
       "      <td>5</td>\n",
       "      <td>2</td>\n",
       "      <td>3</td>\n",
       "      <td>210000</td>\n",
       "      <td>8</td>\n",
       "      <td>1</td>\n",
       "      <td>4</td>\n",
       "      <td>2</td>\n",
       "      <td>...</td>\n",
       "      <td>0</td>\n",
       "      <td>0</td>\n",
       "      <td>0</td>\n",
       "      <td>0</td>\n",
       "      <td>9</td>\n",
       "      <td>9</td>\n",
       "      <td>1</td>\n",
       "      <td>1</td>\n",
       "      <td>0</td>\n",
       "      <td>0</td>\n",
       "    </tr>\n",
       "    <tr>\n",
       "      <th>1</th>\n",
       "      <td>2</td>\n",
       "      <td>4</td>\n",
       "      <td>9</td>\n",
       "      <td>2</td>\n",
       "      <td>4</td>\n",
       "      <td>28000</td>\n",
       "      <td>5</td>\n",
       "      <td>1</td>\n",
       "      <td>6</td>\n",
       "      <td>1</td>\n",
       "      <td>...</td>\n",
       "      <td>0</td>\n",
       "      <td>0</td>\n",
       "      <td>0</td>\n",
       "      <td>0</td>\n",
       "      <td>0</td>\n",
       "      <td>0</td>\n",
       "      <td>9</td>\n",
       "      <td>9</td>\n",
       "      <td>9</td>\n",
       "      <td>9</td>\n",
       "    </tr>\n",
       "    <tr>\n",
       "      <th>2</th>\n",
       "      <td>3</td>\n",
       "      <td>3</td>\n",
       "      <td>5</td>\n",
       "      <td>8</td>\n",
       "      <td>4</td>\n",
       "      <td>2100</td>\n",
       "      <td>2</td>\n",
       "      <td>1</td>\n",
       "      <td>4</td>\n",
       "      <td>2</td>\n",
       "      <td>...</td>\n",
       "      <td>0</td>\n",
       "      <td>0</td>\n",
       "      <td>0</td>\n",
       "      <td>0</td>\n",
       "      <td>9</td>\n",
       "      <td>9</td>\n",
       "      <td>9</td>\n",
       "      <td>9</td>\n",
       "      <td>9</td>\n",
       "      <td>9</td>\n",
       "    </tr>\n",
       "    <tr>\n",
       "      <th>3</th>\n",
       "      <td>4</td>\n",
       "      <td>3</td>\n",
       "      <td>7</td>\n",
       "      <td>5</td>\n",
       "      <td>5</td>\n",
       "      <td>240000</td>\n",
       "      <td>8</td>\n",
       "      <td>2</td>\n",
       "      <td>6</td>\n",
       "      <td>1</td>\n",
       "      <td>...</td>\n",
       "      <td>0</td>\n",
       "      <td>0</td>\n",
       "      <td>0</td>\n",
       "      <td>0</td>\n",
       "      <td>1</td>\n",
       "      <td>1</td>\n",
       "      <td>9</td>\n",
       "      <td>9</td>\n",
       "      <td>9</td>\n",
       "      <td>9</td>\n",
       "    </tr>\n",
       "    <tr>\n",
       "      <th>4</th>\n",
       "      <td>5</td>\n",
       "      <td>1</td>\n",
       "      <td>2</td>\n",
       "      <td>5</td>\n",
       "      <td>3</td>\n",
       "      <td>295000</td>\n",
       "      <td>8</td>\n",
       "      <td>3</td>\n",
       "      <td>6</td>\n",
       "      <td>2</td>\n",
       "      <td>...</td>\n",
       "      <td>0</td>\n",
       "      <td>0</td>\n",
       "      <td>0</td>\n",
       "      <td>0</td>\n",
       "      <td>0</td>\n",
       "      <td>0</td>\n",
       "      <td>9</td>\n",
       "      <td>9</td>\n",
       "      <td>9</td>\n",
       "      <td>9</td>\n",
       "    </tr>\n",
       "  </tbody>\n",
       "</table>\n",
       "<p>5 rows × 1249 columns</p>\n",
       "</div>"
      ],
      "text/plain": [
       "   PUBID  REGION  CENDIV  PBA  PUBCLIM    SQFT  SQFTC  WLCNS  RFCNS  RFCOOL  \\\n",
       "0      1       3       5    2        3  210000      8      1      4       2   \n",
       "1      2       4       9    2        4   28000      5      1      6       1   \n",
       "2      3       3       5    8        4    2100      2      1      4       2   \n",
       "3      4       3       7    5        5  240000      8      2      6       1   \n",
       "4      5       1       2    5        3  295000      8      3      6       2   \n",
       "\n",
       "   ...  ZMFBTU  ZMFEXP  ZELCNS  ZELEXP  ZNGCNS  ZNGEXP  ZFKCNS  ZFKEXP  \\\n",
       "0  ...       0       0       0       0       9       9       1       1   \n",
       "1  ...       0       0       0       0       0       0       9       9   \n",
       "2  ...       0       0       0       0       9       9       9       9   \n",
       "3  ...       0       0       0       0       1       1       9       9   \n",
       "4  ...       0       0       0       0       0       0       9       9   \n",
       "\n",
       "   ZDHBTU  ZDHEXP  \n",
       "0       0       0  \n",
       "1       9       9  \n",
       "2       9       9  \n",
       "3       9       9  \n",
       "4       9       9  \n",
       "\n",
       "[5 rows x 1249 columns]"
      ]
     },
     "execution_count": 2,
     "metadata": {},
     "output_type": "execute_result"
    }
   ],
   "source": [
    "df_orig = pd.read_csv(\"cbecs2018_final_public.csv\")\n",
    "df_orig.head()"
   ]
  },
  {
   "cell_type": "code",
   "execution_count": null,
   "metadata": {},
   "outputs": [],
   "source": [
    "display(df_orig.loc[(df_orig['PUBID'] > 0) & (df_orig['PBA'] == 2) & (df_orig['PUBCLIM'] == 4) & (df_orig['SQFT'] > 0), ['PUBID', 'PBA']])"
   ]
  },
  {
   "cell_type": "code",
   "execution_count": null,
   "metadata": {},
   "outputs": [],
   "source": [
    "df_wk = df_orig.copy()\n",
    "df_wk.head(2)"
   ]
  },
  {
   "cell_type": "markdown",
   "metadata": {},
   "source": [
    "#### creates df_wk dataset"
   ]
  },
  {
   "cell_type": "code",
   "execution_count": 3,
   "metadata": {},
   "outputs": [
    {
     "data": {
      "text/html": [
       "<div>\n",
       "<style scoped>\n",
       "    .dataframe tbody tr th:only-of-type {\n",
       "        vertical-align: middle;\n",
       "    }\n",
       "\n",
       "    .dataframe tbody tr th {\n",
       "        vertical-align: top;\n",
       "    }\n",
       "\n",
       "    .dataframe thead th {\n",
       "        text-align: right;\n",
       "    }\n",
       "</style>\n",
       "<table border=\"1\" class=\"dataframe\">\n",
       "  <thead>\n",
       "    <tr style=\"text-align: right;\">\n",
       "      <th></th>\n",
       "      <th>PUBID</th>\n",
       "      <th>PBA</th>\n",
       "      <th>PUBCLIM</th>\n",
       "      <th>SQFT</th>\n",
       "      <th>WLCNS</th>\n",
       "      <th>RFCNS</th>\n",
       "      <th>BLDSHP</th>\n",
       "      <th>GLSSPC</th>\n",
       "      <th>NFLOOR</th>\n",
       "      <th>NELVTR</th>\n",
       "      <th>...</th>\n",
       "      <th>NGWATR</th>\n",
       "      <th>NGOTH</th>\n",
       "      <th>HDD65</th>\n",
       "      <th>CDD65</th>\n",
       "      <th>ELBTU</th>\n",
       "      <th>NGBTU</th>\n",
       "      <th>ELCNS</th>\n",
       "      <th>ELEXP</th>\n",
       "      <th>NGCNS</th>\n",
       "      <th>NGEXP</th>\n",
       "    </tr>\n",
       "  </thead>\n",
       "  <tbody>\n",
       "    <tr>\n",
       "      <th>0</th>\n",
       "      <td>1</td>\n",
       "      <td>2</td>\n",
       "      <td>3</td>\n",
       "      <td>210000</td>\n",
       "      <td>1</td>\n",
       "      <td>4</td>\n",
       "      <td>6</td>\n",
       "      <td>3</td>\n",
       "      <td>994</td>\n",
       "      <td>8.0</td>\n",
       "      <td>...</td>\n",
       "      <td>2</td>\n",
       "      <td>2</td>\n",
       "      <td>4463</td>\n",
       "      <td>1759</td>\n",
       "      <td>18708970.0</td>\n",
       "      <td>NaN</td>\n",
       "      <td>5483285.0</td>\n",
       "      <td>775800.0</td>\n",
       "      <td>NaN</td>\n",
       "      <td>NaN</td>\n",
       "    </tr>\n",
       "    <tr>\n",
       "      <th>1</th>\n",
       "      <td>2</td>\n",
       "      <td>2</td>\n",
       "      <td>4</td>\n",
       "      <td>28000</td>\n",
       "      <td>1</td>\n",
       "      <td>6</td>\n",
       "      <td>11</td>\n",
       "      <td>3</td>\n",
       "      <td>5</td>\n",
       "      <td>1.0</td>\n",
       "      <td>...</td>\n",
       "      <td>1</td>\n",
       "      <td>2</td>\n",
       "      <td>2424</td>\n",
       "      <td>189</td>\n",
       "      <td>1528667.0</td>\n",
       "      <td>201988.0</td>\n",
       "      <td>448027.0</td>\n",
       "      <td>77933.0</td>\n",
       "      <td>1946.0</td>\n",
       "      <td>4097.0</td>\n",
       "    </tr>\n",
       "    <tr>\n",
       "      <th>2</th>\n",
       "      <td>3</td>\n",
       "      <td>8</td>\n",
       "      <td>4</td>\n",
       "      <td>2100</td>\n",
       "      <td>1</td>\n",
       "      <td>4</td>\n",
       "      <td>2</td>\n",
       "      <td>3</td>\n",
       "      <td>1</td>\n",
       "      <td>NaN</td>\n",
       "      <td>...</td>\n",
       "      <td>2</td>\n",
       "      <td>2</td>\n",
       "      <td>3218</td>\n",
       "      <td>2403</td>\n",
       "      <td>52387.0</td>\n",
       "      <td>NaN</td>\n",
       "      <td>15354.0</td>\n",
       "      <td>3472.0</td>\n",
       "      <td>NaN</td>\n",
       "      <td>NaN</td>\n",
       "    </tr>\n",
       "    <tr>\n",
       "      <th>3</th>\n",
       "      <td>4</td>\n",
       "      <td>5</td>\n",
       "      <td>5</td>\n",
       "      <td>240000</td>\n",
       "      <td>2</td>\n",
       "      <td>6</td>\n",
       "      <td>2</td>\n",
       "      <td>2</td>\n",
       "      <td>1</td>\n",
       "      <td>NaN</td>\n",
       "      <td>...</td>\n",
       "      <td>1</td>\n",
       "      <td>2</td>\n",
       "      <td>1045</td>\n",
       "      <td>3041</td>\n",
       "      <td>1974255.0</td>\n",
       "      <td>1211520.0</td>\n",
       "      <td>578621.0</td>\n",
       "      <td>41197.0</td>\n",
       "      <td>11672.0</td>\n",
       "      <td>9862.0</td>\n",
       "    </tr>\n",
       "    <tr>\n",
       "      <th>4</th>\n",
       "      <td>5</td>\n",
       "      <td>5</td>\n",
       "      <td>3</td>\n",
       "      <td>295000</td>\n",
       "      <td>3</td>\n",
       "      <td>6</td>\n",
       "      <td>1</td>\n",
       "      <td>1</td>\n",
       "      <td>1</td>\n",
       "      <td>NaN</td>\n",
       "      <td>...</td>\n",
       "      <td>2</td>\n",
       "      <td>2</td>\n",
       "      <td>5076</td>\n",
       "      <td>1316</td>\n",
       "      <td>1290564.0</td>\n",
       "      <td>3386445.0</td>\n",
       "      <td>378243.0</td>\n",
       "      <td>33688.0</td>\n",
       "      <td>32625.0</td>\n",
       "      <td>35297.0</td>\n",
       "    </tr>\n",
       "  </tbody>\n",
       "</table>\n",
       "<p>5 rows × 33 columns</p>\n",
       "</div>"
      ],
      "text/plain": [
       "   PUBID  PBA  PUBCLIM    SQFT  WLCNS  RFCNS  BLDSHP  GLSSPC  NFLOOR  NELVTR  \\\n",
       "0      1    2        3  210000      1      4       6       3     994     8.0   \n",
       "1      2    2        4   28000      1      6      11       3       5     1.0   \n",
       "2      3    8        4    2100      1      4       2       3       1     NaN   \n",
       "3      4    5        5  240000      2      6       2       2       1     NaN   \n",
       "4      5    5        3  295000      3      6       1       1       1     NaN   \n",
       "\n",
       "   ...  NGWATR  NGOTH  HDD65  CDD65       ELBTU      NGBTU      ELCNS  \\\n",
       "0  ...       2      2   4463   1759  18708970.0        NaN  5483285.0   \n",
       "1  ...       1      2   2424    189   1528667.0   201988.0   448027.0   \n",
       "2  ...       2      2   3218   2403     52387.0        NaN    15354.0   \n",
       "3  ...       1      2   1045   3041   1974255.0  1211520.0   578621.0   \n",
       "4  ...       2      2   5076   1316   1290564.0  3386445.0   378243.0   \n",
       "\n",
       "      ELEXP    NGCNS    NGEXP  \n",
       "0  775800.0      NaN      NaN  \n",
       "1   77933.0   1946.0   4097.0  \n",
       "2    3472.0      NaN      NaN  \n",
       "3   41197.0  11672.0   9862.0  \n",
       "4   33688.0  32625.0  35297.0  \n",
       "\n",
       "[5 rows x 33 columns]"
      ]
     },
     "execution_count": 3,
     "metadata": {},
     "output_type": "execute_result"
    }
   ],
   "source": [
    "df_wk = df_orig.iloc[:,[0,3,4,5,7,8,11,12,13,18,21,77,103,104,113,114,133,\n",
    "    134,139,140,141,295,378,379,425,561,562,566,569,567,568,570,571]]\n",
    "df_wk.head()"
   ]
  },
  {
   "cell_type": "markdown",
   "metadata": {},
   "source": [
    "#### commit"
   ]
  },
  {
   "cell_type": "markdown",
   "metadata": {},
   "source": [
    "#### Add cold degree days (CDD) and hot degree days (HDD) low to high ranges and averages to df_wk.\n",
    "- The code cell below creates the df_clim dataframe.\n",
    "- The data is from \"Climate Data for Building Design Standards\"."
   ]
  },
  {
   "cell_type": "code",
   "execution_count": 25,
   "metadata": {},
   "outputs": [
    {
     "name": "stdout",
     "output_type": "stream",
     "text": [
      "   PUBCLIM  CDD_LOW  CDD_HI  HDD_LOW  HDD_HI  CDD_AVG  HDD_AVG\n",
      "0        2     1800    6300     5400    7200     4050     6300\n",
      "1        3     2700    6300     3600    5400     4500     4500\n",
      "2        4     4500    6300     1800    3600     5400     2700\n"
     ]
    }
   ],
   "source": [
    "data = {'PUBCLIM': [2, 3, 4],\n",
    "        'CDD_LOW': [1800, 2700, 4500],\n",
    "        'CDD_HI': [6300, 6300, 6300],\n",
    "        'HDD_LOW': [5400, 3600, 1800],\n",
    "        'HDD_HI': [7200, 5400, 3600],\n",
    "        'CDD_AVG': [4050, 4500, 5400],\n",
    "        'HDD_AVG': [6300, 4500, 2700]\n",
    "        }\n",
    "\n",
    "df_clim = pd.DataFrame(data)\n",
    "print(df_clim)"
   ]
  },
  {
   "cell_type": "markdown",
   "metadata": {},
   "source": [
    "- This code cell joins the df_clim to df_wk using the common PUBCLIM column to align the rows based on the 2, 3, and 4 climate zones."
   ]
  },
  {
   "cell_type": "code",
   "execution_count": 27,
   "metadata": {},
   "outputs": [
    {
     "name": "stdout",
     "output_type": "stream",
     "text": [
      "      PUBID  PBA  PUBCLIM    SQFT  WLCNS  RFCNS  BLDSHP  GLSSPC  NFLOOR  \\\n",
      "0         1    2        3  210000      1      4       6       3     994   \n",
      "1         2    2        4   28000      1      6      11       3       5   \n",
      "2         3    8        4    2100      1      4       2       3       1   \n",
      "3         4    5        5  240000      2      6       2       2       1   \n",
      "4         5    5        3  295000      3      6       1       1       1   \n",
      "...     ...  ...      ...     ...    ...    ...     ...     ...     ...   \n",
      "6431   6432   14        2  130000      1      1       2       3       3   \n",
      "6432   6433    1        4    1050      1      5       1       3       1   \n",
      "6433   6434    2        4  122000      2      6      11       5       5   \n",
      "6434   6435   23        4   15000      3      5       2       4       1   \n",
      "6435   6436   14        7  188000      1      6       4       2       7   \n",
      "\n",
      "      NELVTR  ...      ELCNS     ELEXP    NGCNS    NGEXP  CDD_LOW  CDD_HI  \\\n",
      "0        8.0  ...  5483285.0  775800.0      NaN      NaN   2700.0  6300.0   \n",
      "1        1.0  ...   448027.0   77933.0   1946.0   4097.0   4500.0  6300.0   \n",
      "2        NaN  ...    15354.0    3472.0      NaN      NaN   4500.0  6300.0   \n",
      "3        NaN  ...   578621.0   41197.0  11672.0   9862.0      NaN     NaN   \n",
      "4        NaN  ...   378243.0   33688.0  32625.0  35297.0   2700.0  6300.0   \n",
      "...      ...  ...        ...       ...      ...      ...      ...     ...   \n",
      "6431     1.0  ...   689577.0   72773.0  40083.0  24720.0   1800.0  6300.0   \n",
      "6432     NaN  ...        NaN       NaN      NaN      NaN   4500.0  6300.0   \n",
      "6433     2.0  ...  3445040.0  288738.0      NaN      NaN   4500.0  6300.0   \n",
      "6434     NaN  ...   281519.0   24644.0   2268.0   2038.0   4500.0  6300.0   \n",
      "6435     2.0  ...  3747787.0  208918.0      NaN      NaN      NaN     NaN   \n",
      "\n",
      "      HDD_LOW  HDD_HI  CDD_AVG  HDD_AVG  \n",
      "0      3600.0  5400.0   4500.0   4500.0  \n",
      "1      1800.0  3600.0   5400.0   2700.0  \n",
      "2      1800.0  3600.0   5400.0   2700.0  \n",
      "3         NaN     NaN      NaN      NaN  \n",
      "4      3600.0  5400.0   4500.0   4500.0  \n",
      "...       ...     ...      ...      ...  \n",
      "6431   5400.0  7200.0   4050.0   6300.0  \n",
      "6432   1800.0  3600.0   5400.0   2700.0  \n",
      "6433   1800.0  3600.0   5400.0   2700.0  \n",
      "6434   1800.0  3600.0   5400.0   2700.0  \n",
      "6435      NaN     NaN      NaN      NaN  \n",
      "\n",
      "[6436 rows x 39 columns]\n"
     ]
    }
   ],
   "source": [
    "df_wk = pd.merge(df_wk, df_clim, on='PUBCLIM', how='left')\n",
    "print(df_wk)"
   ]
  },
  {
   "cell_type": "markdown",
   "metadata": {},
   "source": [
    "#### end commit"
   ]
  },
  {
   "cell_type": "markdown",
   "metadata": {},
   "source": [
    "#### commit"
   ]
  },
  {
   "cell_type": "markdown",
   "metadata": {},
   "source": [
    "#### Filtered df_wk where the principle business activity (PBA) is 2 = office building, and the buildings are in climate zones PUBCLIM = 2 or 3 or 4."
   ]
  },
  {
   "cell_type": "code",
   "execution_count": 39,
   "metadata": {},
   "outputs": [
    {
     "name": "stdout",
     "output_type": "stream",
     "text": [
      "(1018, 39)\n",
      "      PUBID  PBA  PUBCLIM    SQFT  WLCNS  RFCNS  BLDSHP  GLSSPC  NFLOOR  \\\n",
      "0         1    2        3  210000      1      4       6       3     994   \n",
      "1         2    2        4   28000      1      6      11       3       5   \n",
      "12       13    2        3   30500      1      6       2       5       3   \n",
      "18       19    2        4  184000      1      6       3       3       3   \n",
      "20       21    2        3  240000      6      5       2       6       4   \n",
      "...     ...  ...      ...     ...    ...    ...     ...     ...     ...   \n",
      "6420   6421    2        3  430000      1      7       2       4     995   \n",
      "6421   6422    2        2  385000      1      2       5       5       4   \n",
      "6427   6428    2        2  265000      2      8       1       5     995   \n",
      "6429   6430    2        4   54000      1      6       2       3       3   \n",
      "6433   6434    2        4  122000      2      6      11       5       5   \n",
      "\n",
      "      NELVTR  ...      ELCNS     ELEXP     NGCNS    NGEXP  CDD_LOW  CDD_HI  \\\n",
      "0        8.0  ...  5483285.0  775800.0       NaN      NaN   2700.0  6300.0   \n",
      "1        1.0  ...   448027.0   77933.0    1946.0   4097.0   4500.0  6300.0   \n",
      "12       1.0  ...   200111.0   14249.0   14501.0   7140.0   2700.0  6300.0   \n",
      "18       3.0  ...  3046373.0  294586.0   57819.0  61657.0   4500.0  6300.0   \n",
      "20       4.0  ...  2800997.0  338196.0   72858.0  40230.0   2700.0  6300.0   \n",
      "...      ...  ...        ...       ...       ...      ...      ...     ...   \n",
      "6420     7.0  ...  4879395.0  517676.0       NaN      NaN   2700.0  6300.0   \n",
      "6421     5.0  ...  3712827.0  352176.0   85312.0  64654.0   1800.0  6300.0   \n",
      "6427     6.0  ...  2661136.0  196978.0  112456.0  40885.0   1800.0  6300.0   \n",
      "6429     2.0  ...  1114171.0   78057.0       NaN      NaN   4500.0  6300.0   \n",
      "6433     2.0  ...  3445040.0  288738.0       NaN      NaN   4500.0  6300.0   \n",
      "\n",
      "      HDD_LOW  HDD_HI  CDD_AVG  HDD_AVG  \n",
      "0      3600.0  5400.0   4500.0   4500.0  \n",
      "1      1800.0  3600.0   5400.0   2700.0  \n",
      "12     3600.0  5400.0   4500.0   4500.0  \n",
      "18     1800.0  3600.0   5400.0   2700.0  \n",
      "20     3600.0  5400.0   4500.0   4500.0  \n",
      "...       ...     ...      ...      ...  \n",
      "6420   3600.0  5400.0   4500.0   4500.0  \n",
      "6421   5400.0  7200.0   4050.0   6300.0  \n",
      "6427   5400.0  7200.0   4050.0   6300.0  \n",
      "6429   1800.0  3600.0   5400.0   2700.0  \n",
      "6433   1800.0  3600.0   5400.0   2700.0  \n",
      "\n",
      "[1018 rows x 39 columns]\n"
     ]
    }
   ],
   "source": [
    "df_wk_filtered = df_wk[(df_wk['PBA'] == 2) & (df_wk['PUBCLIM'].isin([2, 3, 4]))]\n",
    "print(df_wk_filtered.shape)\n",
    "print(df_wk_filtered)"
   ]
  },
  {
   "cell_type": "markdown",
   "metadata": {},
   "source": [
    "- The row index was reset so the new index is sequencial."
   ]
  },
  {
   "cell_type": "code",
   "execution_count": 40,
   "metadata": {},
   "outputs": [
    {
     "name": "stdout",
     "output_type": "stream",
     "text": [
      "(1018, 40)\n",
      "      index  PUBID  PBA  PUBCLIM    SQFT  WLCNS  RFCNS  BLDSHP  GLSSPC  \\\n",
      "0         0      1    2        3  210000      1      4       6       3   \n",
      "1         1      2    2        4   28000      1      6      11       3   \n",
      "2        12     13    2        3   30500      1      6       2       5   \n",
      "3        18     19    2        4  184000      1      6       3       3   \n",
      "4        20     21    2        3  240000      6      5       2       6   \n",
      "...     ...    ...  ...      ...     ...    ...    ...     ...     ...   \n",
      "1013   6420   6421    2        3  430000      1      7       2       4   \n",
      "1014   6421   6422    2        2  385000      1      2       5       5   \n",
      "1015   6427   6428    2        2  265000      2      8       1       5   \n",
      "1016   6429   6430    2        4   54000      1      6       2       3   \n",
      "1017   6433   6434    2        4  122000      2      6      11       5   \n",
      "\n",
      "      NFLOOR  ...      ELCNS     ELEXP     NGCNS    NGEXP  CDD_LOW  CDD_HI  \\\n",
      "0        994  ...  5483285.0  775800.0       NaN      NaN   2700.0  6300.0   \n",
      "1          5  ...   448027.0   77933.0    1946.0   4097.0   4500.0  6300.0   \n",
      "2          3  ...   200111.0   14249.0   14501.0   7140.0   2700.0  6300.0   \n",
      "3          3  ...  3046373.0  294586.0   57819.0  61657.0   4500.0  6300.0   \n",
      "4          4  ...  2800997.0  338196.0   72858.0  40230.0   2700.0  6300.0   \n",
      "...      ...  ...        ...       ...       ...      ...      ...     ...   \n",
      "1013     995  ...  4879395.0  517676.0       NaN      NaN   2700.0  6300.0   \n",
      "1014       4  ...  3712827.0  352176.0   85312.0  64654.0   1800.0  6300.0   \n",
      "1015     995  ...  2661136.0  196978.0  112456.0  40885.0   1800.0  6300.0   \n",
      "1016       3  ...  1114171.0   78057.0       NaN      NaN   4500.0  6300.0   \n",
      "1017       5  ...  3445040.0  288738.0       NaN      NaN   4500.0  6300.0   \n",
      "\n",
      "      HDD_LOW  HDD_HI  CDD_AVG  HDD_AVG  \n",
      "0      3600.0  5400.0   4500.0   4500.0  \n",
      "1      1800.0  3600.0   5400.0   2700.0  \n",
      "2      3600.0  5400.0   4500.0   4500.0  \n",
      "3      1800.0  3600.0   5400.0   2700.0  \n",
      "4      3600.0  5400.0   4500.0   4500.0  \n",
      "...       ...     ...      ...      ...  \n",
      "1013   3600.0  5400.0   4500.0   4500.0  \n",
      "1014   5400.0  7200.0   4050.0   6300.0  \n",
      "1015   5400.0  7200.0   4050.0   6300.0  \n",
      "1016   1800.0  3600.0   5400.0   2700.0  \n",
      "1017   1800.0  3600.0   5400.0   2700.0  \n",
      "\n",
      "[1018 rows x 40 columns]\n"
     ]
    }
   ],
   "source": [
    "# resetting the df_wk row index\n",
    "df_wk_filtered = df_wk_filtered.reset_index()\n",
    "print(df_wk_filtered.shape)\n",
    "print(df_wk_filtered)"
   ]
  },
  {
   "cell_type": "markdown",
   "metadata": {},
   "source": [
    "#### end commit"
   ]
  },
  {
   "cell_type": "code",
   "execution_count": null,
   "metadata": {},
   "outputs": [],
   "source": [
    "df_wk.shape"
   ]
  },
  {
   "cell_type": "code",
   "execution_count": null,
   "metadata": {},
   "outputs": [],
   "source": [
    "missing_values = df_wk.isna().sum()\n",
    "print(missing_values)"
   ]
  },
  {
   "cell_type": "code",
   "execution_count": null,
   "metadata": {},
   "outputs": [],
   "source": [
    "print(df_wk.info())"
   ]
  },
  {
   "cell_type": "code",
   "execution_count": null,
   "metadata": {},
   "outputs": [],
   "source": [
    "print(df_wk.describe().round(0))"
   ]
  },
  {
   "cell_type": "code",
   "execution_count": null,
   "metadata": {},
   "outputs": [],
   "source": [
    "print(df_wk[['PBA', 'WLCNS']].value_counts())"
   ]
  },
  {
   "cell_type": "markdown",
   "metadata": {},
   "source": [
    "#### function for commands"
   ]
  },
  {
   "cell_type": "code",
   "execution_count": 30,
   "metadata": {},
   "outputs": [
    {
     "name": "stdout",
     "output_type": "stream",
     "text": [
      "The number of rows and columns is:\n",
      "(6436, 39)\n"
     ]
    }
   ],
   "source": [
    "def run_commands(df):\n",
    "    print('The number of rows and columns is:')\n",
    "    print(df.shape)\n",
    "\n",
    "run_commands(df_wk)"
   ]
  },
  {
   "cell_type": "code",
   "execution_count": null,
   "metadata": {},
   "outputs": [],
   "source": [
    "# calc'd column\n",
    "# zone 2:  cdd_low <= CDD value <= cdd_hi"
   ]
  }
 ],
 "metadata": {
  "kernelspec": {
   "display_name": "venv",
   "language": "python",
   "name": "python3"
  },
  "language_info": {
   "codemirror_mode": {
    "name": "ipython",
    "version": 3
   },
   "file_extension": ".py",
   "mimetype": "text/x-python",
   "name": "python",
   "nbconvert_exporter": "python",
   "pygments_lexer": "ipython3",
   "version": "3.11.5"
  }
 },
 "nbformat": 4,
 "nbformat_minor": 2
}
